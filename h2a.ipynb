{
 "cells": [
  {
   "cell_type": "markdown",
   "metadata": {},
   "source": [
    "# Dissoziation einer zweibasigen Säure in Wasser"
   ]
  },
  {
   "cell_type": "code",
   "execution_count": 1,
   "metadata": {},
   "outputs": [],
   "source": [
    "from matplotlib import pyplot as plt\n",
    "from matplotlib import style\n",
    "from scipy import stats\n",
    "from scipy import constants as cnst\n",
    "import numpy as np\n",
    "import pandas as pd\n",
    "import glob\n",
    "import math\n",
    "from IPython.display import HTML"
   ]
  },
  {
   "cell_type": "code",
   "execution_count": 7,
   "metadata": {},
   "outputs": [
    {
     "name": "stdin",
     "output_type": "stream",
     "text": [
      "pKs1 der Säure:  6.35\n",
      "pKs2 der Säure:  10.33\n"
     ]
    },
    {
     "data": {
      "text/html": [
       "<style  type=\"text/css\" >\n",
       "</style><table id=\"T_26591152_db1e_11ea_a8a1_a37ac13ea7f2\" ><thead>    <tr>        <th class=\"blank level0\" ></th>        <th class=\"col_heading level0 col0\" >H+</th>        <th class=\"col_heading level0 col1\" >pH</th>        <th class=\"col_heading level0 col2\" >OH-</th>        <th class=\"col_heading level0 col3\" >H2A</th>        <th class=\"col_heading level0 col4\" >HA</th>        <th class=\"col_heading level0 col5\" >A-</th>    </tr></thead><tbody>\n",
       "                <tr>\n",
       "                        <th id=\"T_26591152_db1e_11ea_a8a1_a37ac13ea7f2level0_row0\" class=\"row_heading level0 row0\" >0</th>\n",
       "                        <td id=\"T_26591152_db1e_11ea_a8a1_a37ac13ea7f2row0_col0\" class=\"data row0 col0\" >2.09e-05</td>\n",
       "                        <td id=\"T_26591152_db1e_11ea_a8a1_a37ac13ea7f2row0_col1\" class=\"data row0 col1\" >4.7</td>\n",
       "                        <td id=\"T_26591152_db1e_11ea_a8a1_a37ac13ea7f2row0_col2\" class=\"data row0 col2\" >4.78e-10</td>\n",
       "                        <td id=\"T_26591152_db1e_11ea_a8a1_a37ac13ea7f2row0_col3\" class=\"data row0 col3\" >9.79e-04</td>\n",
       "                        <td id=\"T_26591152_db1e_11ea_a8a1_a37ac13ea7f2row0_col4\" class=\"data row0 col4\" >2.09e-05</td>\n",
       "                        <td id=\"T_26591152_db1e_11ea_a8a1_a37ac13ea7f2row0_col5\" class=\"data row0 col5\" >4.68e-11</td>\n",
       "            </tr>\n",
       "    </tbody></table>"
      ],
      "text/plain": [
       "<pandas.io.formats.style.Styler at 0x7f3e1c275210>"
      ]
     },
     "metadata": {},
     "output_type": "display_data"
    }
   ],
   "source": [
    "# Konstanten\n",
    "pKs_1 = np.double(input(\"pKs1 der Säure: \"))\n",
    "pKs_2 = np.double(input(\"pKs2 der Säure: \"))\n",
    "Ks_1 = math.pow(10,-pKs_1)\n",
    "Ks_2 = math.pow(10,-pKs_2)\n",
    "Kw = 1e-14\n",
    "c_0 = 1e-3\n",
    "\n",
    "# Startwerte\n",
    "ha = 0.1\n",
    "h2a = 0.1\n",
    "\n",
    "# Iteration\n",
    "while True: \n",
    "    while True:\n",
    "        # Berechnung Protonen / Hydroxid Ionen\n",
    "        h = Ks_1*h2a/ha\n",
    "        a = Ks_2*ha/h\n",
    "        oh = Kw/h\n",
    "\n",
    "        # Summe Kationen / Anionen\n",
    "        sum_Kat = h\n",
    "        sum_An = 2*a + ha + oh\n",
    "\n",
    "        ha = ha*(sum_Kat/sum_An)**0.3\n",
    "        if(abs(sum_Kat/sum_An-1)<1e-6):\n",
    "            c_ber = h2a + ha + a\n",
    "            break\n",
    "    h2a = h2a * (c_0/c_ber)**1\n",
    "    if(abs(c_0/c_ber-1)<1e-6):\n",
    "        break\n",
    "ph = -math.log10(h)        \n",
    "df_erg = pd.DataFrame(data=[[h,ph,oh,h2a,ha,a]],columns=['H+','pH','OH-','H2A','HA','A-'],dtype=np.double)\n",
    "style = {'H+':\"{:.2e}\",'pH':'{:.1f}','OH-':'{:.2e}','H2A':'{:.2e}','HA':'{:.2e}','A-':'{:.2e}'}\n",
    "display(df_erg.style.format(style))"
   ]
  },
  {
   "cell_type": "code",
   "execution_count": null,
   "metadata": {},
   "outputs": [],
   "source": []
  }
 ],
 "metadata": {
  "kernelspec": {
   "display_name": "Python 3",
   "language": "python",
   "name": "python3"
  },
  "language_info": {
   "codemirror_mode": {
    "name": "ipython",
    "version": 3
   },
   "file_extension": ".py",
   "mimetype": "text/x-python",
   "name": "python",
   "nbconvert_exporter": "python",
   "pygments_lexer": "ipython3",
   "version": "3.7.7"
  }
 },
 "nbformat": 4,
 "nbformat_minor": 4
}
