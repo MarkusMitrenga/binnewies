{
 "cells": [
  {
   "cell_type": "markdown",
   "metadata": {},
   "source": [
    "# Dissoziation einer dreibasigen Säure in Wasser"
   ]
  },
  {
   "cell_type": "code",
   "execution_count": null,
   "metadata": {},
   "outputs": [],
   "source": [
    "from matplotlib import pyplot as plt\n",
    "from matplotlib import style\n",
    "from scipy import stats\n",
    "from scipy import constants as cnst\n",
    "import numpy as np\n",
    "import pandas as pd\n",
    "import glob\n",
    "import math\n",
    "from IPython.display import HTML"
   ]
  },
  {
   "cell_type": "code",
   "execution_count": null,
   "metadata": {},
   "outputs": [],
   "source": [
    "# Konstanten\n",
    "pKs_1 = np.double(input(\"pKs1 der Säure: \"))\n",
    "pKs_2 = np.double(input(\"pKs2 der Säure: \"))\n",
    "pKs_3 = np.double(input(\"pKs3 der Säure: \"))\n",
    "Ks_1 = math.pow(10,-pKs_1)\n",
    "Ks_2 = math.pow(10,-pKs_2)\n",
    "Ks_3 = math.pow(10,-pKs_3)\n",
    "Kw = 1e-14\n",
    "c_0 = 1e-2\n",
    "\n",
    "# Startwerte\n",
    "h2a = 0.1\n",
    "h3a = 0.1\n",
    "\n",
    "# Iteration\n",
    "while True: \n",
    "    while True:\n",
    "        # Berechnung Protonen / Hydroxid Ionen\n",
    "        h = Ks_1*h3a/h2a\n",
    "        ha = Ks_2*h2a/h\n",
    "        a = Ks_3*ha/h\n",
    "        oh = Kw/h\n",
    "\n",
    "        # Summe Kationen / Anionen\n",
    "        sum_Kat = h\n",
    "        sum_An = 3*a + 2*ha + h2a + oh\n",
    "\n",
    "        h2a = h2a*(sum_Kat/sum_An)**0.3\n",
    "        if(abs(sum_Kat/sum_An-1)<1e-6):\n",
    "            c_ber = h3a + h2a + ha + a\n",
    "            break\n",
    "    h3a = h3a * (c_0/c_ber)**1\n",
    "    if(abs(c_0/c_ber-1)<1e-6):\n",
    "        break\n",
    "ph = -math.log10(h)        \n",
    "df_erg = pd.DataFrame(data=[[h,ph,oh,h3a,h2a,ha,a]],columns=['H+','pH','OH-','H3A','H2A','HA','A-'],dtype=np.double)\n",
    "style = {'H+':\"{:.2e}\",'pH':'{:.1f}','OH-':'{:.2e}','H3A':'{:.2e}','H2A':'{:.2e}','HA':'{:.2e}','A-':'{:.2e}'}\n",
    "display(df_erg.style.format(style))"
   ]
  },
  {
   "cell_type": "code",
   "execution_count": null,
   "metadata": {},
   "outputs": [],
   "source": []
  }
 ],
 "metadata": {
  "kernelspec": {
   "display_name": "Python 3",
   "language": "python",
   "name": "python3"
  },
  "language_info": {
   "codemirror_mode": {
    "name": "ipython",
    "version": 3
   },
   "file_extension": ".py",
   "mimetype": "text/x-python",
   "name": "python",
   "nbconvert_exporter": "python",
   "pygments_lexer": "ipython3",
   "version": "3.8.5"
  }
 },
 "nbformat": 4,
 "nbformat_minor": 4
}
