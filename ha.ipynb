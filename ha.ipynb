{
 "cells": [
  {
   "cell_type": "markdown",
   "metadata": {},
   "source": [
    "# Dissoziation einer einprotonigen Säure"
   ]
  },
  {
   "cell_type": "code",
   "execution_count": 15,
   "metadata": {},
   "outputs": [],
   "source": [
    "from matplotlib import pyplot as plt\n",
    "from matplotlib import style\n",
    "from scipy import stats\n",
    "from scipy import constants as cnst\n",
    "import numpy as np\n",
    "import pandas as pd\n",
    "import glob\n",
    "import math\n",
    "from IPython.display import HTML"
   ]
  },
  {
   "cell_type": "code",
   "execution_count": 27,
   "metadata": {},
   "outputs": [
    {
     "name": "stdin",
     "output_type": "stream",
     "text": [
      "pKs der Säure:  4.1\n"
     ]
    },
    {
     "data": {
      "text/html": [
       "<style  type=\"text/css\" >\n",
       "</style><table id=\"T_ff3b6752_db20_11ea_9322_117617614693\" ><thead>    <tr>        <th class=\"blank level0\" ></th>        <th class=\"col_heading level0 col0\" >H+</th>        <th class=\"col_heading level0 col1\" >pH</th>        <th class=\"col_heading level0 col2\" >OH-</th>        <th class=\"col_heading level0 col3\" >HA</th>        <th class=\"col_heading level0 col4\" >A-</th>    </tr></thead><tbody>\n",
       "                <tr>\n",
       "                        <th id=\"T_ff3b6752_db20_11ea_9322_117617614693level0_row0\" class=\"row_heading level0 row0\" >0</th>\n",
       "                        <td id=\"T_ff3b6752_db20_11ea_9322_117617614693row0_col0\" class=\"data row0 col0\" >8.52e-04</td>\n",
       "                        <td id=\"T_ff3b6752_db20_11ea_9322_117617614693row0_col1\" class=\"data row0 col1\" >3.1</td>\n",
       "                        <td id=\"T_ff3b6752_db20_11ea_9322_117617614693row0_col2\" class=\"data row0 col2\" >1.17e-11</td>\n",
       "                        <td id=\"T_ff3b6752_db20_11ea_9322_117617614693row0_col3\" class=\"data row0 col3\" >9.15e-03</td>\n",
       "                        <td id=\"T_ff3b6752_db20_11ea_9322_117617614693row0_col4\" class=\"data row0 col4\" >8.52e-04</td>\n",
       "            </tr>\n",
       "    </tbody></table>"
      ],
      "text/plain": [
       "<pandas.io.formats.style.Styler at 0x7f4df3ea3f50>"
      ]
     },
     "metadata": {},
     "output_type": "display_data"
    },
    {
     "name": "stdout",
     "output_type": "stream",
     "text": [
      "Die Säure ist zu  91.5 % undissoziiert.\n"
     ]
    }
   ],
   "source": [
    "# Konstanten\n",
    "pKs = np.double(input(\"pKs der Säure: \"))\n",
    "Ks = math.pow(10,-pKs)\n",
    "Kw = 1e-14\n",
    "c_0 = 1e-2\n",
    "\n",
    "# Startwerte\n",
    "a = 0.01\n",
    "ha = 0.01\n",
    "\n",
    "# Iteration\n",
    "while True: \n",
    "    while True:\n",
    "        # Berechnung Protonen / Hydroxid Ionen\n",
    "        h = Ks*ha/a\n",
    "        oh = Kw/h\n",
    "\n",
    "        # Summe Kationen / Anionen\n",
    "        sum_Kat = h\n",
    "        sum_An = a + oh\n",
    "\n",
    "        a = a*(sum_Kat/sum_An)**0.3\n",
    "        if(abs(sum_Kat/sum_An-1)<1e-4):\n",
    "            c_ber = ha+a\n",
    "            break\n",
    "    ha = ha * (c_0/c_ber)**1\n",
    "    if(abs(c_0/c_ber-1)<1e-4):\n",
    "        break\n",
    "ph = -math.log10(h)        \n",
    "df_erg = pd.DataFrame(data=[[h,ph,oh,ha,a]],columns=['H+','pH','OH-','HA','A-'],dtype=np.double)\n",
    "style = {'H+':\"{:.2e}\",'pH':'{:.1f}','OH-':'{:.2e}','HA':'{:.2e}','A-':'{:.2e}'}\n",
    "display(df_erg.style.format(style))\n",
    "dissgrad = ha*100/c_0\n",
    "print(\"Die Säure ist zu \",'{0:3.1f}'.format(dissgrad),\"% undissoziiert.\")"
   ]
  },
  {
   "cell_type": "code",
   "execution_count": null,
   "metadata": {},
   "outputs": [],
   "source": []
  }
 ],
 "metadata": {
  "kernelspec": {
   "display_name": "Python 3",
   "language": "python",
   "name": "python3"
  },
  "language_info": {
   "codemirror_mode": {
    "name": "ipython",
    "version": 3
   },
   "file_extension": ".py",
   "mimetype": "text/x-python",
   "name": "python",
   "nbconvert_exporter": "python",
   "pygments_lexer": "ipython3",
   "version": "3.7.7"
  }
 },
 "nbformat": 4,
 "nbformat_minor": 4
}
