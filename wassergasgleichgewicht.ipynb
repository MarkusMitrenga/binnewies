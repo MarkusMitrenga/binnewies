{
 "cells": [
  {
   "cell_type": "markdown",
   "metadata": {},
   "source": [
    "# Das Wassergasgleichgewicht"
   ]
  },
  {
   "cell_type": "code",
   "execution_count": null,
   "metadata": {},
   "outputs": [],
   "source": [
    "from matplotlib import pyplot as plt\n",
    "from matplotlib import style\n",
    "from scipy import stats\n",
    "from scipy import constants as cnst\n",
    "import numpy as np\n",
    "import pandas as pd\n",
    "import glob\n",
    "import math\n",
    "from IPython.display import HTML"
   ]
  },
  {
   "cell_type": "code",
   "execution_count": null,
   "metadata": {},
   "outputs": [],
   "source": [
    "# Konstanten\n",
    "R = cnst.R\n",
    "M_H2O = 18\n",
    "h_1 = 131400\n",
    "s_1 = 138.1\n",
    "h_2 = -41200\n",
    "s_2 = -42.1\n",
    "\n",
    "# Temperaturbereich\n",
    "temp = np.arange(500,1500,10)\n",
    "\n",
    "# Arrays\n",
    "l_CO2 = []\n",
    "l_CO = []\n",
    "l_H2O = []\n",
    "l_H2 = []\n",
    "\n",
    "# Mengen\n",
    "m = 18\n",
    "v = 22.4\n",
    "\n",
    "for t in temp:\n",
    "    # Gesamtdruck\n",
    "    p_0 = (m/M_H2O)*R/100*t/v\n",
    "    # Gleichgewichtskonst. zur Temperatur t\n",
    "    k_1 = np.exp(-h_1/(R*t)+s_1/R)\n",
    "    k_2 = np.exp(-h_2/(R*t)+s_2/R)\n",
    "    # Startwerte für CO und H2O\n",
    "    CO = 0.1\n",
    "    H2O = 0.1\n",
    "    while True:\n",
    "        while True:\n",
    "            H = k_1*H2O/CO\n",
    "            CO2 = k_2*CO*H2O/H\n",
    "            # Sauerstoffbilanz\n",
    "            x_1 = H2O+CO+2*CO2\n",
    "            if(abs(p_0/x_1-1)<1e-6):\n",
    "                break\n",
    "            CO = CO*(p_0/x_1)**0.5\n",
    "        # Wasserstoffbilanz\n",
    "        x_2 = H2O+H\n",
    "        if(abs(p_0/x_2-1)<1e-6):\n",
    "            break\n",
    "        H2O = H2O*(p_0/x_2)**0.5\n",
    "    l_CO2.append(CO2)\n",
    "    l_CO.append(CO)\n",
    "    l_H2O.append(H2O)\n",
    "    l_H2.append(H)\n",
    "    \n",
    "# Darstellung der Daten\n",
    "fig = plt.figure(figsize=(12, 10)) \n",
    "plt.minorticks_on\n",
    "plt.grid(True,which='both')\n",
    "plt.xlabel('T in K')\n",
    "plt.ylabel('p in bar')\n",
    "plt.title('Wassergasgleichgewicht')\n",
    "plt.plot(temp,l_CO2,temp,l_CO,temp,l_H2O,temp,l_H2)\n",
    "plt.legend(['CO2','CO','H2O','H2'])\n",
    "plt.show()\n",
    "fig.savefig('test.png')\n",
    "\n",
    "# Daten in Tabellenform\n",
    "df_T = pd.DataFrame(data=temp, columns=['T in K'])\n",
    "df_CO2 = pd.DataFrame(data=l_CO2,columns=['p(CO2) in bar'])\n",
    "df_CO = pd.DataFrame(data=l_CO,columns=['p(CO) in bar'])\n",
    "df_H2O = pd.DataFrame(data=l_H2O,columns=['p(H2O) in bar'])\n",
    "df_H2 = pd.DataFrame(data=l_H2,columns=['p(H2) in bar'])\n",
    "df = pd.concat([df_T,df_CO2,df_CO,df_H2O,df_H2],axis=1)\n",
    "display(HTML(df.round(3).to_html(index=True)))\n",
    "df.to_csv('Test.csv')"
   ]
  },
  {
   "cell_type": "code",
   "execution_count": null,
   "metadata": {},
   "outputs": [],
   "source": []
  }
 ],
 "metadata": {
  "kernelspec": {
   "display_name": "Python 3",
   "language": "python",
   "name": "python3"
  },
  "language_info": {
   "codemirror_mode": {
    "name": "ipython",
    "version": 3
   },
   "file_extension": ".py",
   "mimetype": "text/x-python",
   "name": "python",
   "nbconvert_exporter": "python",
   "pygments_lexer": "ipython3",
   "version": "3.8.5"
  }
 },
 "nbformat": 4,
 "nbformat_minor": 4
}
