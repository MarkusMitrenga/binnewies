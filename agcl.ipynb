{
 "cells": [
  {
   "cell_type": "markdown",
   "metadata": {},
   "source": [
    "# Fällung von AgCl und die Bildung des Komplexions [AgCl2]-"
   ]
  },
  {
   "cell_type": "code",
   "execution_count": null,
   "metadata": {},
   "outputs": [],
   "source": [
    "from matplotlib import pyplot as plt\n",
    "from matplotlib import style\n",
    "from scipy import stats\n",
    "from scipy import constants as cnst\n",
    "import numpy as np\n",
    "import pandas as pd\n",
    "import glob\n",
    "import math\n",
    "from IPython.display import HTML"
   ]
  },
  {
   "cell_type": "code",
   "execution_count": null,
   "metadata": {
    "scrolled": false
   },
   "outputs": [],
   "source": [
    "# Konstanten\n",
    "lp = 2e-10 # LP AgCl\n",
    "kcpx = 1e5 # k AgCl2-\n",
    "M_AgCl = 143.3 # MW AgCl\n",
    "\n",
    "# Konz. HCl\n",
    "#cCl_sre = 1e-2\n",
    "#cH_sre = cCl_sre\n",
    "l_Cl = np.arange(math.log10(1e-7),math.log10(1e2),1e-1,dtype = np.longdouble)\n",
    "l_H = l_Cl\n",
    "\n",
    "l_ges = []\n",
    "l_HCl = []\n",
    "\n",
    "# Startkonzentration Silberionen\n",
    "cAg = 0.1\n",
    "\n",
    "for cH_sre in l_H:\n",
    "    cH_sre = np.longdouble(math.pow(10,cH_sre))\n",
    "    # Iteration\n",
    "    while True:\n",
    "        cCl = lp/cAg\n",
    "        ccpx = kcpx*cAg*cCl**2\n",
    "        ges = M_AgCl*1000*(cAg+ccpx)\n",
    "        sk = cAg + cH_sre # Summe Kationen\n",
    "        sa = cCl + ccpx # Summe Anionen\n",
    "        cAg = cAg*(sa/sk)**0.5\n",
    "        if(abs(sk/sa-1) < 1e-6):\n",
    "            l_ges.append(np.log10(ges))\n",
    "            l_HCl.append(np.log10(cH_sre))\n",
    "            break\n",
    "        \n",
    "# Darstellung der Daten\n",
    "fig = plt.figure(figsize=(12, 10)) \n",
    "plt.minorticks_on\n",
    "plt.grid(True,which='both')\n",
    "plt.xlabel('log(c(HCl))')\n",
    "plt.ylabel('log(l)')\n",
    "plt.title('Fällung von AgCl in Gegenwart von Cl- Ionen')\n",
    "plt.plot(l_HCl,l_ges)\n",
    "plt.show()\n",
    "fig.savefig('test.png')\n",
    "        \n",
    "# Daten in Tabellenform\n",
    "df_loes = pd.DataFrame(data=l_ges, columns=['log Löslichkeit'])\n",
    "df_HCl = pd.DataFrame(data=l_HCl,columns=['log c(HCl)'])\n",
    "df = pd.concat([df_loes,df_HCl],axis=1)\n",
    "display(HTML(df.round(4).to_html(index=True)))\n",
    "df.to_csv('Test.csv')"
   ]
  },
  {
   "cell_type": "code",
   "execution_count": null,
   "metadata": {
    "scrolled": true
   },
   "outputs": [],
   "source": []
  }
 ],
 "metadata": {
  "kernelspec": {
   "display_name": "Python 3",
   "language": "python",
   "name": "python3"
  },
  "language_info": {
   "codemirror_mode": {
    "name": "ipython",
    "version": 3
   },
   "file_extension": ".py",
   "mimetype": "text/x-python",
   "name": "python",
   "nbconvert_exporter": "python",
   "pygments_lexer": "ipython3",
   "version": "3.7.10"
  }
 },
 "nbformat": 4,
 "nbformat_minor": 4
}
